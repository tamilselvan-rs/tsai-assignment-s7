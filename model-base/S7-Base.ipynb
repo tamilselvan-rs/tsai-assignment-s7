{
 "cells": [
  {
   "cell_type": "code",
   "execution_count": 1,
   "metadata": {},
   "outputs": [
    {
     "name": "stdout",
     "output_type": "stream",
     "text": [
      "----------------------------------------------------------------\n",
      "        Layer (type)               Output Shape         Param #\n",
      "================================================================\n",
      "            Conv2d-1           [-1, 32, 26, 26]             320\n",
      "       BatchNorm2d-2           [-1, 32, 26, 26]              64\n",
      "              ReLU-3           [-1, 32, 26, 26]               0\n",
      "         AvgPool2d-4           [-1, 32, 13, 13]               0\n",
      "            Conv2d-5           [-1, 32, 11, 11]           9,248\n",
      "       BatchNorm2d-6           [-1, 32, 11, 11]              64\n",
      "              ReLU-7           [-1, 32, 11, 11]               0\n",
      "           Dropout-8           [-1, 32, 11, 11]               0\n",
      "         MaxPool2d-9             [-1, 32, 6, 6]               0\n",
      "           Conv2d-10             [-1, 16, 4, 4]           4,624\n",
      "      BatchNorm2d-11             [-1, 16, 4, 4]              32\n",
      "             ReLU-12             [-1, 16, 4, 4]               0\n",
      "          Dropout-13             [-1, 16, 4, 4]               0\n",
      "           Conv2d-14             [-1, 16, 2, 2]           2,320\n",
      "             ReLU-15             [-1, 16, 2, 2]               0\n",
      "           Linear-16                   [-1, 10]             650\n",
      "================================================================\n",
      "Total params: 17,322\n",
      "Trainable params: 17,322\n",
      "Non-trainable params: 0\n",
      "----------------------------------------------------------------\n",
      "Input size (MB): 0.00\n",
      "Forward/backward pass size (MB): 0.67\n",
      "Params size (MB): 0.07\n",
      "Estimated Total Size (MB): 0.74\n",
      "----------------------------------------------------------------\n"
     ]
    }
   ],
   "source": [
    "from model import Net\n",
    "from utils import get_dst_device, print_model_summary\n",
    "device = get_dst_device()\n",
    "model = Net().to(device)\n",
    "print_model_summary(model)"
   ]
  },
  {
   "cell_type": "code",
   "execution_count": 2,
   "metadata": {},
   "outputs": [
    {
     "data": {
      "image/png": "[encoded data removed]",
      "text/plain": [
       "<Figure size 640x480 with 12 Axes>"
      ]
     },
     "metadata": {},
     "output_type": "display_data"
    }
   ],
   "source": [
    "from utils import setup_test_loader, setup_train_loader, plot_data\n",
    "train_loader = setup_train_loader(\"../data\")\n",
    "test_loader = setup_test_loader(\"../data\")\n",
    "plot_data(train_loader)"
   ]
  },
  {
   "cell_type": "code",
   "execution_count": 3,
   "metadata": {},
   "outputs": [
    {
     "name": "stdout",
     "output_type": "stream",
     "text": [
      "Adjusting learning rate of group 0 to 2.0000e-02.\n",
      "Epoch 1\n"
     ]
    },
    {
     "name": "stderr",
     "output_type": "stream",
     "text": [
      "Train: Loss=0.1505 Batch_id=117 Accuracy=81.69: 100%|██████████| 118/118 [00:25<00:00,  4.66it/s]\n"
     ]
    },
    {
     "name": "stdout",
     "output_type": "stream",
     "text": [
      "Test set: Average loss: 0.1030, Accuracy: 9683/10000 (96.83%)\n",
      "\n",
      "Adjusting learning rate of group 0 to 2.0000e-02.\n",
      "Epoch 2\n"
     ]
    },
    {
     "name": "stderr",
     "output_type": "stream",
     "text": [
      "Train: Loss=0.0674 Batch_id=117 Accuracy=96.16: 100%|██████████| 118/118 [00:24<00:00,  4.85it/s]\n"
     ]
    },
    {
     "name": "stdout",
     "output_type": "stream",
     "text": [
      "Test set: Average loss: 0.0565, Accuracy: 9831/10000 (98.31%)\n",
      "\n",
      "Adjusting learning rate of group 0 to 2.0000e-02.\n",
      "Epoch 3\n"
     ]
    },
    {
     "name": "stderr",
     "output_type": "stream",
     "text": [
      "Train: Loss=0.0608 Batch_id=117 Accuracy=97.12: 100%|██████████| 118/118 [00:24<00:00,  4.78it/s]\n"
     ]
    },
    {
     "name": "stdout",
     "output_type": "stream",
     "text": [
      "Test set: Average loss: 0.0449, Accuracy: 9854/10000 (98.54%)\n",
      "\n",
      "Adjusting learning rate of group 0 to 2.0000e-02.\n",
      "Epoch 4\n"
     ]
    },
    {
     "name": "stderr",
     "output_type": "stream",
     "text": [
      "Train: Loss=0.0590 Batch_id=117 Accuracy=97.56: 100%|██████████| 118/118 [00:24<00:00,  4.75it/s]\n"
     ]
    },
    {
     "name": "stdout",
     "output_type": "stream",
     "text": [
      "Test set: Average loss: 0.0388, Accuracy: 9892/10000 (98.92%)\n",
      "\n",
      "Adjusting learning rate of group 0 to 2.0000e-02.\n",
      "Epoch 5\n"
     ]
    },
    {
     "name": "stderr",
     "output_type": "stream",
     "text": [
      "Train: Loss=0.1079 Batch_id=117 Accuracy=97.89: 100%|██████████| 118/118 [00:24<00:00,  4.72it/s]\n"
     ]
    },
    {
     "name": "stdout",
     "output_type": "stream",
     "text": [
      "Test set: Average loss: 0.0364, Accuracy: 9886/10000 (98.86%)\n",
      "\n",
      "Adjusting learning rate of group 0 to 2.0000e-02.\n",
      "Epoch 6\n"
     ]
    },
    {
     "name": "stderr",
     "output_type": "stream",
     "text": [
      "Train: Loss=0.0338 Batch_id=117 Accuracy=97.99: 100%|██████████| 118/118 [00:25<00:00,  4.70it/s]\n"
     ]
    },
    {
     "name": "stdout",
     "output_type": "stream",
     "text": [
      "Test set: Average loss: 0.0331, Accuracy: 9898/10000 (98.98%)\n",
      "\n",
      "Adjusting learning rate of group 0 to 2.0000e-02.\n",
      "Epoch 7\n"
     ]
    },
    {
     "name": "stderr",
     "output_type": "stream",
     "text": [
      "Train: Loss=0.0450 Batch_id=117 Accuracy=98.18: 100%|██████████| 118/118 [00:24<00:00,  4.84it/s]\n"
     ]
    },
    {
     "name": "stdout",
     "output_type": "stream",
     "text": [
      "Test set: Average loss: 0.0326, Accuracy: 9902/10000 (99.02%)\n",
      "\n",
      "Adjusting learning rate of group 0 to 2.0000e-02.\n",
      "Epoch 8\n"
     ]
    },
    {
     "name": "stderr",
     "output_type": "stream",
     "text": [
      "Train: Loss=0.0145 Batch_id=117 Accuracy=98.26: 100%|██████████| 118/118 [00:24<00:00,  4.87it/s]\n"
     ]
    },
    {
     "name": "stdout",
     "output_type": "stream",
     "text": [
      "Test set: Average loss: 0.0395, Accuracy: 9872/10000 (98.72%)\n",
      "\n",
      "Adjusting learning rate of group 0 to 2.0000e-02.\n",
      "Epoch 9\n"
     ]
    },
    {
     "name": "stderr",
     "output_type": "stream",
     "text": [
      "Train: Loss=0.0321 Batch_id=117 Accuracy=98.31: 100%|██████████| 118/118 [00:24<00:00,  4.81it/s]\n"
     ]
    },
    {
     "name": "stdout",
     "output_type": "stream",
     "text": [
      "Test set: Average loss: 0.0297, Accuracy: 9897/10000 (98.97%)\n",
      "\n",
      "Adjusting learning rate of group 0 to 2.0000e-02.\n",
      "Epoch 10\n"
     ]
    },
    {
     "name": "stderr",
     "output_type": "stream",
     "text": [
      "Train: Loss=0.0252 Batch_id=117 Accuracy=98.40: 100%|██████████| 118/118 [00:24<00:00,  4.76it/s]\n"
     ]
    },
    {
     "name": "stdout",
     "output_type": "stream",
     "text": [
      "Test set: Average loss: 0.0243, Accuracy: 9920/10000 (99.20%)\n",
      "\n",
      "Adjusting learning rate of group 0 to 2.0000e-02.\n",
      "Epoch 11\n"
     ]
    },
    {
     "name": "stderr",
     "output_type": "stream",
     "text": [
      "Train: Loss=0.0268 Batch_id=117 Accuracy=98.52: 100%|██████████| 118/118 [00:24<00:00,  4.82it/s]\n"
     ]
    },
    {
     "name": "stdout",
     "output_type": "stream",
     "text": [
      "Test set: Average loss: 0.0269, Accuracy: 9912/10000 (99.12%)\n",
      "\n",
      "Adjusting learning rate of group 0 to 2.0000e-02.\n",
      "Epoch 12\n"
     ]
    },
    {
     "name": "stderr",
     "output_type": "stream",
     "text": [
      "Train: Loss=0.0406 Batch_id=117 Accuracy=98.50: 100%|██████████| 118/118 [00:24<00:00,  4.85it/s]\n"
     ]
    },
    {
     "name": "stdout",
     "output_type": "stream",
     "text": [
      "Test set: Average loss: 0.0233, Accuracy: 9928/10000 (99.28%)\n",
      "\n",
      "Adjusting learning rate of group 0 to 2.0000e-02.\n",
      "Epoch 13\n"
     ]
    },
    {
     "name": "stderr",
     "output_type": "stream",
     "text": [
      "Train: Loss=0.0264 Batch_id=117 Accuracy=98.55: 100%|██████████| 118/118 [00:24<00:00,  4.80it/s]\n"
     ]
    },
    {
     "name": "stdout",
     "output_type": "stream",
     "text": [
      "Test set: Average loss: 0.0220, Accuracy: 9932/10000 (99.32%)\n",
      "\n",
      "Adjusting learning rate of group 0 to 2.0000e-02.\n",
      "Epoch 14\n"
     ]
    },
    {
     "name": "stderr",
     "output_type": "stream",
     "text": [
      "Train: Loss=0.0515 Batch_id=117 Accuracy=98.65: 100%|██████████| 118/118 [00:24<00:00,  4.78it/s]\n"
     ]
    },
    {
     "name": "stdout",
     "output_type": "stream",
     "text": [
      "Test set: Average loss: 0.0239, Accuracy: 9931/10000 (99.31%)\n",
      "\n",
      "Adjusting learning rate of group 0 to 2.0000e-02.\n",
      "Epoch 15\n"
     ]
    },
    {
     "name": "stderr",
     "output_type": "stream",
     "text": [
      "Train: Loss=0.0731 Batch_id=117 Accuracy=98.60: 100%|██████████| 118/118 [00:24<00:00,  4.89it/s]\n"
     ]
    },
    {
     "name": "stdout",
     "output_type": "stream",
     "text": [
      "Test set: Average loss: 0.0245, Accuracy: 9919/10000 (99.19%)\n",
      "\n",
      "Adjusting learning rate of group 0 to 2.0000e-03.\n",
      "Epoch 16\n"
     ]
    },
    {
     "name": "stderr",
     "output_type": "stream",
     "text": [
      "Train: Loss=0.0179 Batch_id=117 Accuracy=98.83: 100%|██████████| 118/118 [00:24<00:00,  4.81it/s]\n"
     ]
    },
    {
     "name": "stdout",
     "output_type": "stream",
     "text": [
      "Test set: Average loss: 0.0193, Accuracy: 9939/10000 (99.39%)\n",
      "\n",
      "Adjusting learning rate of group 0 to 2.0000e-03.\n",
      "Epoch 17\n"
     ]
    },
    {
     "name": "stderr",
     "output_type": "stream",
     "text": [
      "Train: Loss=0.0996 Batch_id=117 Accuracy=98.89: 100%|██████████| 118/118 [00:23<00:00,  4.95it/s]\n"
     ]
    },
    {
     "name": "stdout",
     "output_type": "stream",
     "text": [
      "Test set: Average loss: 0.0194, Accuracy: 9938/10000 (99.38%)\n",
      "\n",
      "Adjusting learning rate of group 0 to 2.0000e-03.\n",
      "Epoch 18\n"
     ]
    },
    {
     "name": "stderr",
     "output_type": "stream",
     "text": [
      "Train: Loss=0.0060 Batch_id=117 Accuracy=98.91: 100%|██████████| 118/118 [00:25<00:00,  4.66it/s]\n"
     ]
    },
    {
     "name": "stdout",
     "output_type": "stream",
     "text": [
      "Test set: Average loss: 0.0193, Accuracy: 9938/10000 (99.38%)\n",
      "\n",
      "Adjusting learning rate of group 0 to 2.0000e-03.\n",
      "Epoch 19\n"
     ]
    },
    {
     "name": "stderr",
     "output_type": "stream",
     "text": [
      "Train: Loss=0.0060 Batch_id=117 Accuracy=98.95: 100%|██████████| 118/118 [00:24<00:00,  4.84it/s]\n"
     ]
    },
    {
     "name": "stdout",
     "output_type": "stream",
     "text": [
      "Test set: Average loss: 0.0193, Accuracy: 9939/10000 (99.39%)\n",
      "\n",
      "Adjusting learning rate of group 0 to 2.0000e-03.\n",
      "Epoch 20\n"
     ]
    },
    {
     "name": "stderr",
     "output_type": "stream",
     "text": [
      "Train: Loss=0.0130 Batch_id=117 Accuracy=98.91: 100%|██████████| 118/118 [00:24<00:00,  4.78it/s]\n"
     ]
    },
    {
     "name": "stdout",
     "output_type": "stream",
     "text": [
      "Test set: Average loss: 0.0192, Accuracy: 9943/10000 (99.43%)\n",
      "\n",
      "Adjusting learning rate of group 0 to 2.0000e-03.\n"
     ]
    }
   ],
   "source": [
    "import torch.optim as optim\n",
    "import torch.nn.functional as F\n",
    "from utils import train_model, test_model\n",
    "optimizer = optim.SGD(model.parameters(), lr=0.02, momentum=0.9)\n",
    "scheduler = optim.lr_scheduler.StepLR(optimizer, step_size=15, gamma=0.1, verbose=True)\n",
    "# New Line\n",
    "criterion = F.nll_loss\n",
    "num_epochs = 20\n",
    "train_loss_per_epoch = []\n",
    "test_loss_per_epoch = []\n",
    "train_accuracy_per_epoch = []\n",
    "test_accuracy_per_epoch = []\n",
    "for epoch in range(1, num_epochs+1):\n",
    "  print(f'Epoch {epoch}')\n",
    "  [train_accuracy, train_loss] = train_model(model, device, train_loader, optimizer, criterion)\n",
    "  train_accuracy_per_epoch.append(train_accuracy)\n",
    "  train_loss_per_epoch.append(train_loss)\n",
    "\n",
    "  [test_accuracy, test_loss] = test_model(model, device, test_loader, criterion)\n",
    "  test_accuracy_per_epoch.append(train_accuracy)\n",
    "  test_loss_per_epoch.append(train_loss)\n",
    "\n",
    "  scheduler.step()"
   ]
  }
 ],
 "metadata": {
  "kernelspec": {
   "display_name": "Python 3.10.9 ('base')",
   "language": "python",
   "name": "python3"
  },
  "language_info": {
   "codemirror_mode": {
    "name": "ipython",
    "version": 3
   },
   "file_extension": ".py",
   "mimetype": "text/x-python",
   "name": "python",
   "nbconvert_exporter": "python",
   "pygments_lexer": "ipython3",
   "version": "3.10.9"
  },
  "orig_nbformat": 4,
  "vscode": {
   "interpreter": {
    "hash": "d80930185d003ea1dd6dbcf9e456fce4dcdc865ee148f4f678c936801e488fca"
   }
  }
 },
 "nbformat": 4,
 "nbformat_minor": 2
}
